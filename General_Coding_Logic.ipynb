{
  "nbformat": 4,
  "nbformat_minor": 0,
  "metadata": {
    "colab": {
      "provenance": [],
      "authorship_tag": "ABX9TyMSSWIHQ5fOmt6ZGIqdVcIn",
      "include_colab_link": true
    },
    "kernelspec": {
      "name": "python3",
      "display_name": "Python 3"
    },
    "language_info": {
      "name": "python"
    }
  },
  "cells": [
    {
      "cell_type": "markdown",
      "metadata": {
        "id": "view-in-github",
        "colab_type": "text"
      },
      "source": [
        "<a href=\"https://colab.research.google.com/github/afizaazmi00-beep/General-Coding-Logic/blob/main/General_Coding_Logic.ipynb\" target=\"_parent\"><img src=\"https://colab.research.google.com/assets/colab-badge.svg\" alt=\"Open In Colab\"/></a>"
      ]
    },
    {
      "cell_type": "code",
      "execution_count": 1,
      "metadata": {
        "colab": {
          "base_uri": "https://localhost:8080/"
        },
        "id": "2Ati7fX-kaaM",
        "outputId": "3b436fdc-dd53-43b7-c7b7-0dab152f6ccb"
      },
      "outputs": [
        {
          "output_type": "stream",
          "name": "stdout",
          "text": [
            "[-36, -16, -3, 8, 21, 28, 55, 77, 99, 111, 400]\n"
          ]
        }
      ],
      "source": [
        "def selection_sort(arr):\n",
        "    n = len(arr)\n",
        "    for i in range(n):\n",
        "        min_index = i\n",
        "        # Find the smallest element in the remaining unsorted part\n",
        "        for j in range(i + 1, n):\n",
        "            if arr[j] < arr[min_index]:\n",
        "                min_index = j\n",
        "        # Swap the found minimum with the first unsorted element\n",
        "        arr[i], arr[min_index] = arr[min_index], arr[i]\n",
        "    return arr\n",
        "\n",
        "# Test the function\n",
        "numbers = [21, 400, 8, -3, 77, 99, -16, 55, 111, -36, 28]\n",
        "sorted_numbers = selection_sort(numbers)\n",
        "print(sorted_numbers)"
      ]
    },
    {
      "cell_type": "code",
      "source": [
        "def fizzbuzz():\n",
        "    result = []\n",
        "    for i in range(1, 101):\n",
        "        if i % 3 == 0 and i % 5 == 0:\n",
        "            result.append(\"FizzBuzz\")\n",
        "        elif i % 3 == 0:\n",
        "            result.append(\"Fizz\")\n",
        "        elif i % 5 == 0:\n",
        "            result.append(\"Buzz\")\n",
        "        else:\n",
        "            result.append(i)\n",
        "    return result\n",
        "\n",
        "# Display the output\n",
        "output = fizzbuzz()\n",
        "print(output)"
      ],
      "metadata": {
        "colab": {
          "base_uri": "https://localhost:8080/"
        },
        "id": "2GSwXjsonIKE",
        "outputId": "4df5b386-834a-40ef-91de-6c088e1b5c5a"
      },
      "execution_count": 2,
      "outputs": [
        {
          "output_type": "stream",
          "name": "stdout",
          "text": [
            "[1, 2, 'Fizz', 4, 'Buzz', 'Fizz', 7, 8, 'Fizz', 'Buzz', 11, 'Fizz', 13, 14, 'FizzBuzz', 16, 17, 'Fizz', 19, 'Buzz', 'Fizz', 22, 23, 'Fizz', 'Buzz', 26, 'Fizz', 28, 29, 'FizzBuzz', 31, 32, 'Fizz', 34, 'Buzz', 'Fizz', 37, 38, 'Fizz', 'Buzz', 41, 'Fizz', 43, 44, 'FizzBuzz', 46, 47, 'Fizz', 49, 'Buzz', 'Fizz', 52, 53, 'Fizz', 'Buzz', 56, 'Fizz', 58, 59, 'FizzBuzz', 61, 62, 'Fizz', 64, 'Buzz', 'Fizz', 67, 68, 'Fizz', 'Buzz', 71, 'Fizz', 73, 74, 'FizzBuzz', 76, 77, 'Fizz', 79, 'Buzz', 'Fizz', 82, 83, 'Fizz', 'Buzz', 86, 'Fizz', 88, 89, 'FizzBuzz', 91, 92, 'Fizz', 94, 'Buzz', 'Fizz', 97, 98, 'Fizz', 'Buzz']\n"
          ]
        }
      ]
    },
    {
      "cell_type": "code",
      "source": [
        "def fibonacci_recursive(n):\n",
        "    if n <= 0:\n",
        "        return []\n",
        "    elif n == 1:\n",
        "        return [0]\n",
        "    elif n == 2:\n",
        "        return [0, 1]\n",
        "    else:\n",
        "        seq = fibonacci_recursive(n - 1)\n",
        "        seq.append(seq[-1] + seq[-2])\n",
        "        return seq\n",
        "\n",
        "# Example usage:\n",
        "num_elements = 10\n",
        "print(fibonacci_recursive(num_elements))"
      ],
      "metadata": {
        "colab": {
          "base_uri": "https://localhost:8080/"
        },
        "id": "VInk8M9ynhM-",
        "outputId": "128e6768-b7b3-4bad-edf3-7be426d1d180"
      },
      "execution_count": 3,
      "outputs": [
        {
          "output_type": "stream",
          "name": "stdout",
          "text": [
            "[0, 1, 1, 2, 3, 5, 8, 13, 21, 34]\n"
          ]
        }
      ]
    },
    {
      "cell_type": "code",
      "source": [
        "def find_intersection(list1, list2):\n",
        "    intersection = []\n",
        "    for i in range(len(list1)):\n",
        "        for j in range(len(list2)):\n",
        "            if list1[i] == list2[j]:\n",
        "                # Avoid duplicates in the result\n",
        "                already_exists = False\n",
        "                for k in range(len(intersection)):\n",
        "                    if intersection[k] == list1[i]:\n",
        "                        already_exists = True\n",
        "                        break\n",
        "                if not already_exists:\n",
        "                    intersection.append(list1[i])\n",
        "    return intersection\n",
        "\n",
        "# Example usage\n",
        "list1 = [4, 5, 2, 3, 1, 6]\n",
        "list2 = [8, 7, 6, 9, 4, 5]\n",
        "print(find_intersection(list1, list2))  # Output: [4, 5, 6]"
      ],
      "metadata": {
        "colab": {
          "base_uri": "https://localhost:8080/"
        },
        "id": "zOg4RYtynvkN",
        "outputId": "ad859dd9-7672-4638-c717-a00fdf16403e"
      },
      "execution_count": 4,
      "outputs": [
        {
          "output_type": "stream",
          "name": "stdout",
          "text": [
            "[4, 5, 6]\n"
          ]
        }
      ]
    },
    {
      "cell_type": "code",
      "source": [
        "def symmetric_difference(list1, list2):\n",
        "    result = []\n",
        "\n",
        "    # Check items in list1 not in list2\n",
        "    for i in range(len(list1)):\n",
        "        found = False\n",
        "        for j in range(len(list2)):\n",
        "            if list1[i] == list2[j]:\n",
        "                found = True\n",
        "                break\n",
        "        if not found:\n",
        "            result.append(list1[i])\n",
        "\n",
        "    # Check items in list2 not in list1\n",
        "    for i in range(len(list2)):\n",
        "        found = False\n",
        "        for j in range(len(list1)):\n",
        "            if list2[i] == list1[j]:\n",
        "                found = True\n",
        "                break\n",
        "        if not found:\n",
        "            result.append(list2[i])\n",
        "\n",
        "    return result\n",
        "\n",
        "# Example usage\n",
        "list1 = [4, 5, 2, 3, 1, 6]\n",
        "list2 = [8, 7, 6, 9, 4, 5]\n",
        "print(symmetric_difference(list1, list2))  # Output: [2, 3, 1, 8, 7, 9]"
      ],
      "metadata": {
        "colab": {
          "base_uri": "https://localhost:8080/"
        },
        "id": "0aOuggsln2oR",
        "outputId": "cdc6252d-cdfe-4faa-c03f-84c64cbc8392"
      },
      "execution_count": 5,
      "outputs": [
        {
          "output_type": "stream",
          "name": "stdout",
          "text": [
            "[2, 3, 1, 8, 7, 9]\n"
          ]
        }
      ]
    },
    {
      "cell_type": "code",
      "source": [
        "def max_char_occurrence(text):\n",
        "    # Define characters to ignore\n",
        "    ignore_chars = [' ', ',', '.', '!', '?', ':', ';', '-', '_', '\"', \"'\", '(', ')', '[', ']', '{', '}', '/', '\\\\', '|', '@', '#', '$', '%', '^', '&', '*', '+', '=', '<', '>', '~', '`']\n",
        "\n",
        "    # Manual frequency dictionary\n",
        "    freq = {}\n",
        "\n",
        "    for char in text:\n",
        "        if char in ignore_chars:\n",
        "            continue\n",
        "        if char in freq:\n",
        "            freq[char] += 1\n",
        "        else:\n",
        "            freq[char] = 1\n",
        "\n",
        "    # Find max occurrence\n",
        "    max_char = None\n",
        "    max_count = 0\n",
        "\n",
        "    for char in freq:\n",
        "        if freq[char] > max_count:\n",
        "            max_char = char\n",
        "            max_count = freq[char]\n",
        "\n",
        "    return max_char, max_count\n",
        "\n",
        "# Example usage\n",
        "input_str = \"Hello, world!\"\n",
        "char, count = max_char_occurrence(input_str)\n",
        "print(f\"Character: '{char}', Occurrence: {count}\")"
      ],
      "metadata": {
        "colab": {
          "base_uri": "https://localhost:8080/"
        },
        "id": "Oux-n09joWKZ",
        "outputId": "988b1013-e29c-4734-b6b8-a125ff3be2e3"
      },
      "execution_count": 6,
      "outputs": [
        {
          "output_type": "stream",
          "name": "stdout",
          "text": [
            "Character: 'l', Occurrence: 3\n"
          ]
        }
      ]
    },
    {
      "cell_type": "code",
      "source": [
        "def square_root(x):\n",
        "    if x == 0 or x == 1:\n",
        "        return x\n",
        "\n",
        "    low = 0\n",
        "    high = x\n",
        "\n",
        "    while low <= high:\n",
        "        mid = (low + high) // 2\n",
        "        square = mid * mid\n",
        "\n",
        "        if square == x:\n",
        "            return mid\n",
        "        elif square < x:\n",
        "            low = mid + 1\n",
        "        else:\n",
        "            high = mid - 1\n",
        "\n",
        "    return -1  # Should never happen for perfect squares\n",
        "\n",
        "# Example usage\n",
        "print(square_root(36))  # Output: 6\n",
        "print(square_root(121)) # Output: 11"
      ],
      "metadata": {
        "colab": {
          "base_uri": "https://localhost:8080/"
        },
        "id": "ATftkmtHogU8",
        "outputId": "59a522e7-e8ea-42fb-a84d-c000f9c64b94"
      },
      "execution_count": 7,
      "outputs": [
        {
          "output_type": "stream",
          "name": "stdout",
          "text": [
            "6\n",
            "11\n"
          ]
        }
      ]
    },
    {
      "cell_type": "code",
      "source": [
        "def is_anagram(str1, str2):\n",
        "    ignore_chars = [' ', ',', '.', '!', '?', ':', ';', '-', '_', '\"', \"'\", '(', ')', '[', ']', '{', '}', '/', '\\\\', '|', '@', '#', '$', '%', '^', '&', '*', '+', '=', '<', '>', '~', '`']\n",
        "\n",
        "    def normalize(s):\n",
        "        result = ''\n",
        "        for char in s:\n",
        "            if char not in ignore_chars:\n",
        "                result += char.lower()\n",
        "        return result\n",
        "\n",
        "    norm1 = normalize(str1)\n",
        "    norm2 = normalize(str2)\n",
        "\n",
        "    if len(norm1) != len(norm2):\n",
        "        return False\n",
        "\n",
        "    def count_chars(s):\n",
        "        freq = {}\n",
        "        for char in s:\n",
        "            if char in freq:\n",
        "                freq[char] += 1\n",
        "            else:\n",
        "                freq[char] = 1\n",
        "        return freq\n",
        "\n",
        "    freq1 = count_chars(norm1)\n",
        "    freq2 = count_chars(norm2)\n",
        "\n",
        "    for key in freq1:\n",
        "        if key not in freq2 or freq1[key] != freq2[key]:\n",
        "            return False\n",
        "\n",
        "    return True\n",
        "\n",
        "# 🔹 User input section\n",
        "string1 = input(\"Enter the first string: \")\n",
        "string2 = input(\"Enter the second string: \")\n",
        "\n",
        "# 🔹 Result\n",
        "if is_anagram(string1, string2):\n",
        "    print(\"✅ The strings are anagrams.\")\n",
        "else:\n",
        "    print(\"❌ The strings are NOT anagrams.\")"
      ],
      "metadata": {
        "colab": {
          "base_uri": "https://localhost:8080/"
        },
        "id": "O5L268jXou3v",
        "outputId": "2e3818ba-1107-4cac-b91b-b8a389fef941"
      },
      "execution_count": 11,
      "outputs": [
        {
          "output_type": "stream",
          "name": "stdout",
          "text": [
            "Enter the first string: listen\n",
            "Enter the second string: silent\n",
            "✅ The strings are anagrams.\n"
          ]
        }
      ]
    }
  ]
}